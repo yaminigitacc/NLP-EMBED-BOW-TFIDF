{
 "cells": [
  {
   "cell_type": "markdown",
   "id": "11330772-f32d-4824-9a9c-9688da0c1370",
   "metadata": {},
   "source": [
    "# WORD EMBEDDING MODELS:\n",
    "\n",
    "# BOW (Bag Of Words):\n",
    "-- the Bag of Words (BoW) model, a fundamental approach in natural language processing. BoW simplifies text by counting word occurrences, disregarding their order\n",
    "![image.png](attachment:a8cadf7d-70f5-4ba0-a1d3-a284a2094b68.png)"
   ]
  },
  {
   "cell_type": "markdown",
   "id": "5e3cb77c-73bc-4ca9-b510-2d1625c39d55",
   "metadata": {},
   "source": [
    "# TFIDF: \n",
    "-- It measures how frequently a term appears in a document. The assumption is that the more frequently a word appears, the more important it is within that specific document.\n",
    "![image.png](attachment:1137bf6b-4951-43a0-a7a2-5322eef66035.png)\n"
   ]
  },
  {
   "cell_type": "code",
   "execution_count": 1,
   "id": "d2062b0a-e630-4490-86b4-04790c746b6b",
   "metadata": {},
   "outputs": [],
   "source": [
    "# Import Libraries\n",
    "\n",
    "import nltk\n",
    "import re # deals with regex\n",
    "from nltk.corpus import stopwords # will remove the regular commonly used words\n",
    "\n",
    "from nltk.stem import WordNetLemmatizer\n"
   ]
  },
  {
   "cell_type": "code",
   "execution_count": 2,
   "id": "5ed0cc6e-1ebf-4e57-b1eb-1c72ecd95f18",
   "metadata": {},
   "outputs": [],
   "source": [
    "paragraph =  \"\"\"Inception (2010), directed by Christopher Nolan, follows Dom Cobb (Leonardo DiCaprio), a skilled thief who specializes in extracting secrets from people's subconscious during dreams. \n",
    "Cobb is offered a chance to have his criminal record erased if he can perform an \"inception\"—the act of planting an idea in someone's mind without them realizing it.\n",
    "To do so, he assembles a team to navigate multiple layers of dreams, each more complex than the last. As the mission unfolds, Cobb must confront his own past and the blurred boundaries between dream and reality. \n",
    "The film explores themes of memory, guilt, and the nature of reality, leaving viewers questioning what is real until the very end.\"\"\"\n"
   ]
  },
  {
   "cell_type": "code",
   "execution_count": 3,
   "id": "179036c6-515b-43ac-a2f8-8d0d6e4fc4f7",
   "metadata": {},
   "outputs": [
    {
     "data": {
      "text/plain": [
       "'Inception (2010), directed by Christopher Nolan, follows Dom Cobb (Leonardo DiCaprio), a skilled thief who specializes in extracting secrets from people\\'s subconscious during dreams. \\nCobb is offered a chance to have his criminal record erased if he can perform an \"inception\"—the act of planting an idea in someone\\'s mind without them realizing it.\\nTo do so, he assembles a team to navigate multiple layers of dreams, each more complex than the last. As the mission unfolds, Cobb must confront his own past and the blurred boundaries between dream and reality. \\nThe film explores themes of memory, guilt, and the nature of reality, leaving viewers questioning what is real until the very end.'"
      ]
     },
     "execution_count": 3,
     "metadata": {},
     "output_type": "execute_result"
    }
   ],
   "source": [
    "paragraph"
   ]
  },
  {
   "cell_type": "code",
   "execution_count": 5,
   "id": "14ef3ee8-6bd0-4014-b077-11e1dcc03b5e",
   "metadata": {},
   "outputs": [
    {
     "name": "stdout",
     "output_type": "stream",
     "text": [
      "[\"Inception (2010), directed by Christopher Nolan, follows Dom Cobb (Leonardo DiCaprio), a skilled thief who specializes in extracting secrets from people's subconscious during dreams.\", 'Cobb is offered a chance to have his criminal record erased if he can perform an \"inception\"—the act of planting an idea in someone\\'s mind without them realizing it.', 'To do so, he assembles a team to navigate multiple layers of dreams, each more complex than the last.', 'As the mission unfolds, Cobb must confront his own past and the blurred boundaries between dream and reality.', 'The film explores themes of memory, guilt, and the nature of reality, leaving viewers questioning what is real until the very end.']\n"
     ]
    }
   ],
   "source": [
    "# text clean process\n",
    "# create a portstem to get root of tokens\n",
    "\n",
    "# create lemma for proper wording from sentences\n",
    "lmt = WordNetLemmatizer()\n",
    "# convert paragraph into tokens\n",
    "sentence = nltk.sent_tokenize(paragraph)\n",
    "print(sentence)"
   ]
  },
  {
   "cell_type": "code",
   "execution_count": 6,
   "id": "8e13ba64-841a-488f-b805-85e2ef6fac24",
   "metadata": {},
   "outputs": [],
   "source": [
    "# create a empty list store the clean data\n",
    "corpus = []\n",
    "\n",
    "\n",
    "# try to apply any regex in documnet remove using re library\n",
    "for i in range(len(sentence)):\n",
    "    review = re.sub('[^a-zA-Z]','',sentence[i]) # removes non-alphabatical characters from document and replaces with space\n",
    "    review = review.lower() # convert the context into lower other wise it will create count of vector for same token in Uppercase\n",
    "    review = review.split() # splits the sentences to individual token\n",
    "    \n",
    "    # using lemmatization\n",
    "    review = [lmt.lemmatize(word) for word in review if not word in set(stopwords.words('english'))]   \n",
    "    review = ' '.join(review)\n",
    "    \n",
    "    # add the cleaned data into list\n",
    "    corpus.append(review)\n",
    "\n",
    "\n",
    "    "
   ]
  },
  {
   "cell_type": "code",
   "execution_count": 7,
   "id": "1b45fdc7-917e-4b09-a109-7a31b4b880c2",
   "metadata": {},
   "outputs": [],
   "source": [
    "from sklearn.feature_extraction.text import CountVectorizer\n",
    "cv = CountVectorizer()\n",
    "X_bow = cv.fit_transform(corpus).toarray()\n",
    " \n",
    "\n"
   ]
  },
  {
   "cell_type": "code",
   "execution_count": 8,
   "id": "81988eb3-8815-4107-a42b-87a931a6e6d3",
   "metadata": {},
   "outputs": [],
   "source": [
    "from sklearn.feature_extraction.text import TfidfVectorizer\n",
    "tf = TfidfVectorizer()\n",
    "X_tf = tf.fit_transform(corpus).toarray()"
   ]
  },
  {
   "cell_type": "code",
   "execution_count": 9,
   "id": "042b4178-493f-4af5-9261-e1113a4497a5",
   "metadata": {},
   "outputs": [
    {
     "name": "stdout",
     "output_type": "stream",
     "text": [
      "\n",
      " Bag of words Matrix:\n",
      "[[0 0 1 0 0]\n",
      " [0 1 0 0 0]\n",
      " [0 0 0 0 1]\n",
      " [1 0 0 0 0]\n",
      " [0 0 0 1 0]]\n"
     ]
    }
   ],
   "source": [
    "print(\"\\n Bag of words Matrix:\")\n",
    "print(X_bow)"
   ]
  },
  {
   "cell_type": "code",
   "execution_count": 10,
   "id": "d3a5b57e-62b4-4889-88b6-abc73119d503",
   "metadata": {},
   "outputs": [
    {
     "name": "stdout",
     "output_type": "stream",
     "text": [
      "\n",
      " TFIDF of words Matrix:\n",
      "[[0. 0. 1. 0. 0.]\n",
      " [0. 1. 0. 0. 0.]\n",
      " [0. 0. 0. 0. 1.]\n",
      " [1. 0. 0. 0. 0.]\n",
      " [0. 0. 0. 1. 0.]]\n"
     ]
    }
   ],
   "source": [
    "print(\"\\n TFIDF of words Matrix:\")\n",
    "print(X_tf)"
   ]
  },
  {
   "cell_type": "code",
   "execution_count": null,
   "id": "154939ac-0163-41ec-99ab-1441b897bbd3",
   "metadata": {},
   "outputs": [],
   "source": []
  }
 ],
 "metadata": {
  "kernelspec": {
   "display_name": "Python 3 (ipykernel)",
   "language": "python",
   "name": "python3"
  },
  "language_info": {
   "codemirror_mode": {
    "name": "ipython",
    "version": 3
   },
   "file_extension": ".py",
   "mimetype": "text/x-python",
   "name": "python",
   "nbconvert_exporter": "python",
   "pygments_lexer": "ipython3",
   "version": "3.12.3"
  }
 },
 "nbformat": 4,
 "nbformat_minor": 5
}
